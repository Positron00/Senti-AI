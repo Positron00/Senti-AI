{
 "cells": [
  {
   "cell_type": "markdown",
   "id": "a15efc60",
   "metadata": {},
   "source": [
    "# Sentiment Analysis with Machine Learning"
   ]
  },
  {
   "cell_type": "markdown",
   "id": "29476f99",
   "metadata": {},
   "source": [
    "## Import the necessary libraries"
   ]
  },
  {
   "cell_type": "code",
   "execution_count": 1,
   "id": "4ffb6704-685f-43f9-b4eb-94d90a0218fe",
   "metadata": {},
   "outputs": [
    {
     "name": "stderr",
     "output_type": "stream",
     "text": [
      "[nltk_data] Downloading package punkt_tab to /Users/danc/nltk_data...\n",
      "[nltk_data]   Package punkt_tab is already up-to-date!\n",
      "[nltk_data] Downloading package averaged_perceptron_tagger_eng to\n",
      "[nltk_data]     /Users/danc/nltk_data...\n",
      "[nltk_data]   Package averaged_perceptron_tagger_eng is already up-to-\n",
      "[nltk_data]       date!\n",
      "[nltk_data] Downloading package maxent_ne_chunker_tab to\n",
      "[nltk_data]     /Users/danc/nltk_data...\n",
      "[nltk_data]   Package maxent_ne_chunker_tab is already up-to-date!\n",
      "[nltk_data] Downloading package words to /Users/danc/nltk_data...\n",
      "[nltk_data]   Package words is already up-to-date!\n",
      "[nltk_data] Downloading package stopwords to /Users/danc/nltk_data...\n",
      "[nltk_data]   Package stopwords is already up-to-date!\n",
      "[nltk_data] Downloading package vader_lexicon to\n",
      "[nltk_data]     /Users/danc/nltk_data...\n",
      "[nltk_data]   Package vader_lexicon is already up-to-date!\n"
     ]
    }
   ],
   "source": [
    "from typing import List, Dict\n",
    "from collections import Counter\n",
    "import re\n",
    "import string\n",
    "import math\n",
    "from tqdm.notebook import tqdm\n",
    "from scipy.special import softmax\n",
    "import pandas as pd\n",
    "import numpy as np\n",
    "import matplotlib.pyplot as plt\n",
    "import seaborn as sns\n",
    "from datasets import load_dataset_builder, load_dataset, get_dataset_split_names, concatenate_datasets\n",
    "from transformers import AutoTokenizer, AutoModelForSequenceClassification\n",
    "import torch\n",
    "\n",
    "import nltk\n",
    "from nltk.tokenize import word_tokenize\n",
    "from nltk.corpus import stopwords\n",
    "from nltk.stem import PorterStemmer \n",
    "\n",
    "nltk.download('punkt_tab')\n",
    "nltk.download('averaged_perceptron_tagger_eng')\n",
    "nltk.download('maxent_ne_chunker_tab')\n",
    "nltk.download('words')\n",
    "nltk.download('stopwords')\n",
    "nltk.download('vader_lexicon')\n",
    "\n",
    "plt.style.use('ggplot')"
   ]
  },
  {
   "cell_type": "markdown",
   "id": "775b1ac1",
   "metadata": {},
   "source": [
    "## Check the features of the IMDb dataset, then load the dataset"
   ]
  },
  {
   "cell_type": "code",
   "execution_count": 2,
   "id": "9f792d58",
   "metadata": {},
   "outputs": [
    {
     "data": {
      "text/plain": [
       "{'text': Value(dtype='string', id=None),\n",
       " 'label': ClassLabel(names=['neg', 'pos'], id=None)}"
      ]
     },
     "execution_count": 2,
     "metadata": {},
     "output_type": "execute_result"
    }
   ],
   "source": [
    "ds_builder = load_dataset_builder(\"imdb\")\n",
    "\n",
    "# Inspect dataset features\n",
    "ds_builder.info.features"
   ]
  },
  {
   "cell_type": "code",
   "execution_count": 3,
   "id": "3e185d7b",
   "metadata": {},
   "outputs": [],
   "source": [
    "# Load the IMDb dataset from Hugging Face\n",
    "imdb = load_dataset(\"imdb\")"
   ]
  },
  {
   "cell_type": "code",
   "execution_count": 4,
   "id": "1073eeca",
   "metadata": {},
   "outputs": [
    {
     "data": {
      "text/plain": [
       "['train', 'test', 'unsupervised']"
      ]
     },
     "execution_count": 4,
     "metadata": {},
     "output_type": "execute_result"
    }
   ],
   "source": [
    "# Check the dataset split names\n",
    "get_dataset_split_names(\"imdb\")"
   ]
  },
  {
   "cell_type": "code",
   "execution_count": 5,
   "id": "efadbb81",
   "metadata": {},
   "outputs": [
    {
     "data": {
      "text/plain": [
       "DatasetDict({\n",
       "    train: Dataset({\n",
       "        features: ['text', 'label'],\n",
       "        num_rows: 25000\n",
       "    })\n",
       "    test: Dataset({\n",
       "        features: ['text', 'label'],\n",
       "        num_rows: 25000\n",
       "    })\n",
       "    unsupervised: Dataset({\n",
       "        features: ['text', 'label'],\n",
       "        num_rows: 50000\n",
       "    })\n",
       "})"
      ]
     },
     "execution_count": 5,
     "metadata": {},
     "output_type": "execute_result"
    }
   ],
   "source": [
    "# Check the dataset\n",
    "imdb"
   ]
  },
  {
   "cell_type": "code",
   "execution_count": 6,
   "id": "1b1f6d59",
   "metadata": {},
   "outputs": [
    {
     "data": {
      "text/plain": [
       "Dataset({\n",
       "    features: ['text', 'label'],\n",
       "    num_rows: 25000\n",
       "})"
      ]
     },
     "execution_count": 6,
     "metadata": {},
     "output_type": "execute_result"
    }
   ],
   "source": [
    "# Check the training dataset\n",
    "ds_train = imdb['train']\n",
    "ds_train"
   ]
  },
  {
   "cell_type": "code",
   "execution_count": 7,
   "id": "2847210a",
   "metadata": {},
   "outputs": [
    {
     "data": {
      "text/plain": [
       "Dataset({\n",
       "    features: ['text', 'label'],\n",
       "    num_rows: 25000\n",
       "})"
      ]
     },
     "execution_count": 7,
     "metadata": {},
     "output_type": "execute_result"
    }
   ],
   "source": [
    "# Check the test dataset\n",
    "ds_test = imdb['test']\n",
    "ds_test"
   ]
  },
  {
   "cell_type": "code",
   "execution_count": 8,
   "id": "d8ad6f73",
   "metadata": {},
   "outputs": [
    {
     "data": {
      "text/plain": [
       "Dataset({\n",
       "    features: ['text', 'label'],\n",
       "    num_rows: 50000\n",
       "})"
      ]
     },
     "execution_count": 8,
     "metadata": {},
     "output_type": "execute_result"
    }
   ],
   "source": [
    "# Concatenate the training and test datasets so we can shuffle and split later\n",
    "ds = concatenate_datasets([ds_train, ds_test])\n",
    "ds"
   ]
  },
  {
   "cell_type": "code",
   "execution_count": 9,
   "id": "3c24a2e8",
   "metadata": {},
   "outputs": [
    {
     "data": {
      "text/plain": [
       "Dataset({\n",
       "    features: ['text', 'label'],\n",
       "    num_rows: 50000\n",
       "})"
      ]
     },
     "execution_count": 9,
     "metadata": {},
     "output_type": "execute_result"
    }
   ],
   "source": [
    "# Check the unsupervised dataset\n",
    "ds_unsupervised = imdb['unsupervised']\n",
    "ds_unsupervised"
   ]
  },
  {
   "cell_type": "markdown",
   "id": "7ce7eff4",
   "metadata": {},
   "source": [
    "## Exploratory Data Analysis (EDA)"
   ]
  },
  {
   "cell_type": "code",
   "execution_count": 10,
   "id": "fd4ef661",
   "metadata": {},
   "outputs": [
    {
     "name": "stdout",
     "output_type": "stream",
     "text": [
      "Number of missing texts: 0\n",
      "Number of missing labels: 0\n"
     ]
    }
   ],
   "source": [
    "# Use pandas to check for missing texts and labels\n",
    "df = pd.DataFrame(ds) # convert the dataset to a pandas dataframe\n",
    "num_missing_texts = df['text'].isna().sum()\n",
    "print(f'Number of missing texts: {num_missing_texts}')\n",
    "\n",
    "num_missing_labels = df['label'].isna().sum()\n",
    "print(f'Number of missing labels: {num_missing_labels}')"
   ]
  },
  {
   "cell_type": "code",
   "execution_count": 11,
   "id": "431f2cf8",
   "metadata": {},
   "outputs": [
    {
     "data": {
      "text/plain": [
       "count    50000.000000\n",
       "mean       231.156940\n",
       "std        171.343997\n",
       "min          4.000000\n",
       "25%        126.000000\n",
       "50%        173.000000\n",
       "75%        280.000000\n",
       "max       2470.000000\n",
       "Name: length, dtype: float64"
      ]
     },
     "execution_count": 11,
     "metadata": {},
     "output_type": "execute_result"
    }
   ],
   "source": [
    "# Add a new column to the dataframe to store the word count of each text\n",
    "df['length'] = df['text'].apply(lambda x: len(x.split()))\n",
    "df['length'].describe()"
   ]
  },
  {
   "cell_type": "code",
   "execution_count": 12,
   "id": "e58a0c35",
   "metadata": {},
   "outputs": [
    {
     "data": {
      "image/png": "[encoded data removed]",
      "text/plain": [
       "<Figure size 1000x500 with 1 Axes>"
      ]
     },
     "metadata": {},
     "output_type": "display_data"
    }
   ],
   "source": [
    "# Check the distribution of the review lengths (word count)\n",
    "df['length'].plot(kind='hist', bins=100, figsize=(10, 5), title='Distribution of Review Lengths',\\\n",
    "                   xlabel='Word Count', ylabel='Frequency', color='blue')\n",
    "plt.tight_layout()\n",
    "plt.show()"
   ]
  },
  {
   "cell_type": "code",
   "execution_count": 13,
   "id": "5802adc1",
   "metadata": {},
   "outputs": [
    {
     "data": {
      "image/png": "[encoded data removed]",
      "text/plain": [
       "<Figure size 1000x500 with 1 Axes>"
      ]
     },
     "metadata": {},
     "output_type": "display_data"
    }
   ],
   "source": [
    "# Check the distribution of the sentiment labels\n",
    "ax = df['label'].value_counts().sort_index() \\\n",
    "    .plot(kind='bar',color='blue',\n",
    "          title='Count of Reviews by Sentiment',\n",
    "          figsize=(10, 5))\n",
    "ax.set_xlabel('Sentiment')\n",
    "plt.show()"
   ]
  },
  {
   "cell_type": "markdown",
   "id": "e77cde64",
   "metadata": {},
   "source": [
    "## Text Preprocessing"
   ]
  },
  {
   "cell_type": "code",
   "execution_count": 14,
   "id": "655032ee",
   "metadata": {},
   "outputs": [
    {
     "data": {
      "text/plain": [
       "'I rented I AM CURIOUS-YELLOW from my video store because of all the controversy that surrounded it when it was first released in 1967. I also heard that at first it was seized by U.S. customs if it ever tried to enter this country, therefore being a fan of films considered \"controversial\" I really had to see this for myself.<br /><br />The plot is centered around a young Swedish drama student named Lena who wants to learn everything she can about life. In particular she wants to focus her attentions to making some sort of documentary on what the average Swede thought about certain political issues such as the Vietnam War and race issues in the United States. In between asking politicians and ordinary denizens of Stockholm about their opinions on politics, she has sex with her drama teacher, classmates, and married men.<br /><br />What kills me about I AM CURIOUS-YELLOW is that 40 years ago, this was considered pornographic. Really, the sex and nudity scenes are few and far between, even then it\\'s not shot like some cheaply made porno. While my countrymen mind find it shocking, in reality sex and nudity are a major staple in Swedish cinema. Even Ingmar Bergman, arguably their answer to good old boy John Ford, had sex scenes in his films.<br /><br />I do commend the filmmakers for the fact that any sex shown in the film is shown for artistic purposes rather than just to shock people and make money to be shown in pornographic theaters in America. I AM CURIOUS-YELLOW is a good film for anyone wanting to study the meat and potatoes (no pun intended) of Swedish cinema. But really, this film doesn\\'t have much of a plot.'"
      ]
     },
     "execution_count": 14,
     "metadata": {},
     "output_type": "execute_result"
    }
   ],
   "source": [
    "# Check the first text in the dataset\n",
    "example_text = df.iloc[0]['text']\n",
    "example_text"
   ]
  },
  {
   "cell_type": "code",
   "execution_count": 16,
   "id": "1342578c",
   "metadata": {},
   "outputs": [],
   "source": [
    "def preprocess_text(text: str) -> List[str]:\n",
    "    \"\"\"\n",
    "    Preprocess the text and remove unnecessary characters.\n",
    "    \n",
    "    Args:\n",
    "        text (str): The input text to preprocess\n",
    "        \n",
    "    Returns:\n",
    "        List[str]: A list of tokens after tokenizing, removing stopwords, and stemming\n",
    "    \"\"\"\n",
    "    # remove hyperlinks\n",
    "    new_text = re.sub(r'https?://[^\\s\\n\\r]+', '', text)\n",
    "    # remove punctuation\n",
    "    new_text = re.sub(r'[^\\w\\s]', '', new_text)\n",
    "    # remove hashtags\n",
    "    new_text = re.sub(r'#', '', new_text)\n",
    "    # remove numbers\n",
    "    new_text = re.sub(r'\\d+', '', new_text)\n",
    "    # tokenize the text\n",
    "    tokens = nltk.word_tokenize(new_text.lower())\n",
    "    # collect stopwords\n",
    "    stop_words = set(stopwords.words('english'))\n",
    "    # set up the stemmer\n",
    "    stemmer = PorterStemmer()\n",
    "    # remove stopwords and stem the words\n",
    "    tokens = [stemmer.stem(word) for word in tokens if word not in stop_words]\n",
    "\n",
    "    return tokens"
   ]
  },
  {
   "cell_type": "code",
   "execution_count": 17,
   "id": "fb7f24ff",
   "metadata": {},
   "outputs": [
    {
     "data": {
      "text/plain": [
       "['rent',\n",
       " 'curiousyellow',\n",
       " 'video',\n",
       " 'store',\n",
       " 'controversi',\n",
       " 'surround',\n",
       " 'first',\n",
       " 'releas',\n",
       " 'also',\n",
       " 'heard',\n",
       " 'first',\n",
       " 'seiz',\n",
       " 'us',\n",
       " 'custom',\n",
       " 'ever',\n",
       " 'tri',\n",
       " 'enter',\n",
       " 'countri',\n",
       " 'therefor',\n",
       " 'fan',\n",
       " 'film',\n",
       " 'consid',\n",
       " 'controversi',\n",
       " 'realli',\n",
       " 'see',\n",
       " 'myselfbr',\n",
       " 'br',\n",
       " 'plot',\n",
       " 'center',\n",
       " 'around',\n",
       " 'young',\n",
       " 'swedish',\n",
       " 'drama',\n",
       " 'student',\n",
       " 'name',\n",
       " 'lena',\n",
       " 'want',\n",
       " 'learn',\n",
       " 'everyth',\n",
       " 'life',\n",
       " 'particular',\n",
       " 'want',\n",
       " 'focu',\n",
       " 'attent',\n",
       " 'make',\n",
       " 'sort',\n",
       " 'documentari',\n",
       " 'averag',\n",
       " 'swede',\n",
       " 'thought',\n",
       " 'certain',\n",
       " 'polit',\n",
       " 'issu',\n",
       " 'vietnam',\n",
       " 'war',\n",
       " 'race',\n",
       " 'issu',\n",
       " 'unit',\n",
       " 'state',\n",
       " 'ask',\n",
       " 'politician',\n",
       " 'ordinari',\n",
       " 'denizen',\n",
       " 'stockholm',\n",
       " 'opinion',\n",
       " 'polit',\n",
       " 'sex',\n",
       " 'drama',\n",
       " 'teacher',\n",
       " 'classmat',\n",
       " 'marri',\n",
       " 'menbr',\n",
       " 'br',\n",
       " 'kill',\n",
       " 'curiousyellow',\n",
       " 'year',\n",
       " 'ago',\n",
       " 'consid',\n",
       " 'pornograph',\n",
       " 'realli',\n",
       " 'sex',\n",
       " 'nuditi',\n",
       " 'scene',\n",
       " 'far',\n",
       " 'even',\n",
       " 'shot',\n",
       " 'like',\n",
       " 'cheapli',\n",
       " 'made',\n",
       " 'porno',\n",
       " 'countrymen',\n",
       " 'mind',\n",
       " 'find',\n",
       " 'shock',\n",
       " 'realiti',\n",
       " 'sex',\n",
       " 'nuditi',\n",
       " 'major',\n",
       " 'stapl',\n",
       " 'swedish',\n",
       " 'cinema',\n",
       " 'even',\n",
       " 'ingmar',\n",
       " 'bergman',\n",
       " 'arguabl',\n",
       " 'answer',\n",
       " 'good',\n",
       " 'old',\n",
       " 'boy',\n",
       " 'john',\n",
       " 'ford',\n",
       " 'sex',\n",
       " 'scene',\n",
       " 'filmsbr',\n",
       " 'br',\n",
       " 'commend',\n",
       " 'filmmak',\n",
       " 'fact',\n",
       " 'sex',\n",
       " 'shown',\n",
       " 'film',\n",
       " 'shown',\n",
       " 'artist',\n",
       " 'purpos',\n",
       " 'rather',\n",
       " 'shock',\n",
       " 'peopl',\n",
       " 'make',\n",
       " 'money',\n",
       " 'shown',\n",
       " 'pornograph',\n",
       " 'theater',\n",
       " 'america',\n",
       " 'curiousyellow',\n",
       " 'good',\n",
       " 'film',\n",
       " 'anyon',\n",
       " 'want',\n",
       " 'studi',\n",
       " 'meat',\n",
       " 'potato',\n",
       " 'pun',\n",
       " 'intend',\n",
       " 'swedish',\n",
       " 'cinema',\n",
       " 'realli',\n",
       " 'film',\n",
       " 'doesnt',\n",
       " 'much',\n",
       " 'plot']"
      ]
     },
     "execution_count": 17,
     "metadata": {},
     "output_type": "execute_result"
    }
   ],
   "source": [
    "preprocess_text(example_text)"
   ]
  },
  {
   "cell_type": "code",
   "execution_count": 19,
   "id": "28fc9faa",
   "metadata": {},
   "outputs": [
    {
     "data": {
      "application/vnd.jupyter.widget-view+json": {
       "model_id": "ace2d2d99e344a129ee45f607e320b87",
       "version_major": 2,
       "version_minor": 0
      },
      "text/plain": [
       "  0%|          | 0/50000 [00:00<?, ?it/s]"
      ]
     },
     "metadata": {},
     "output_type": "display_data"
    },
    {
     "data": {
      "text/html": [
       "<div>\n",
       "<style scoped>\n",
       "    .dataframe tbody tr th:only-of-type {\n",
       "        vertical-align: middle;\n",
       "    }\n",
       "\n",
       "    .dataframe tbody tr th {\n",
       "        vertical-align: top;\n",
       "    }\n",
       "\n",
       "    .dataframe thead th {\n",
       "        text-align: right;\n",
       "    }\n",
       "</style>\n",
       "<table border=\"1\" class=\"dataframe\">\n",
       "  <thead>\n",
       "    <tr style=\"text-align: right;\">\n",
       "      <th></th>\n",
       "      <th>text</th>\n",
       "      <th>label</th>\n",
       "      <th>length</th>\n",
       "      <th>tokens</th>\n",
       "    </tr>\n",
       "  </thead>\n",
       "  <tbody>\n",
       "    <tr>\n",
       "      <th>0</th>\n",
       "      <td>I rented I AM CURIOUS-YELLOW from my video sto...</td>\n",
       "      <td>0</td>\n",
       "      <td>288</td>\n",
       "      <td>[rent, curiousyellow, video, store, controvers...</td>\n",
       "    </tr>\n",
       "    <tr>\n",
       "      <th>1</th>\n",
       "      <td>\"I Am Curious: Yellow\" is a risible and preten...</td>\n",
       "      <td>0</td>\n",
       "      <td>214</td>\n",
       "      <td>[curiou, yellow, risibl, pretenti, steam, pile...</td>\n",
       "    </tr>\n",
       "    <tr>\n",
       "      <th>2</th>\n",
       "      <td>If only to avoid making this type of film in t...</td>\n",
       "      <td>0</td>\n",
       "      <td>93</td>\n",
       "      <td>[avoid, make, type, film, futur, film, interes...</td>\n",
       "    </tr>\n",
       "    <tr>\n",
       "      <th>3</th>\n",
       "      <td>This film was probably inspired by Godard's Ma...</td>\n",
       "      <td>0</td>\n",
       "      <td>118</td>\n",
       "      <td>[film, probabl, inspir, godard, masculin, fémi...</td>\n",
       "    </tr>\n",
       "    <tr>\n",
       "      <th>4</th>\n",
       "      <td>Oh, brother...after hearing about this ridicul...</td>\n",
       "      <td>0</td>\n",
       "      <td>311</td>\n",
       "      <td>[oh, brotheraft, hear, ridicul, film, umpteen,...</td>\n",
       "    </tr>\n",
       "    <tr>\n",
       "      <th>...</th>\n",
       "      <td>...</td>\n",
       "      <td>...</td>\n",
       "      <td>...</td>\n",
       "      <td>...</td>\n",
       "    </tr>\n",
       "    <tr>\n",
       "      <th>49995</th>\n",
       "      <td>Just got around to seeing Monster Man yesterda...</td>\n",
       "      <td>1</td>\n",
       "      <td>744</td>\n",
       "      <td>[got, around, see, monster, man, yesterday, lo...</td>\n",
       "    </tr>\n",
       "    <tr>\n",
       "      <th>49996</th>\n",
       "      <td>I got this as part of a competition prize. I w...</td>\n",
       "      <td>1</td>\n",
       "      <td>116</td>\n",
       "      <td>[got, part, competit, prize, watch, realli, ex...</td>\n",
       "    </tr>\n",
       "    <tr>\n",
       "      <th>49997</th>\n",
       "      <td>I got Monster Man in a box set of three films ...</td>\n",
       "      <td>1</td>\n",
       "      <td>212</td>\n",
       "      <td>[got, monster, man, box, set, three, film, mai...</td>\n",
       "    </tr>\n",
       "    <tr>\n",
       "      <th>49998</th>\n",
       "      <td>Five minutes in, i started to feel how naff th...</td>\n",
       "      <td>1</td>\n",
       "      <td>380</td>\n",
       "      <td>[five, minut, start, feel, naff, look, youv, g...</td>\n",
       "    </tr>\n",
       "    <tr>\n",
       "      <th>49999</th>\n",
       "      <td>I caught this movie on the Sci-Fi channel rece...</td>\n",
       "      <td>1</td>\n",
       "      <td>128</td>\n",
       "      <td>[caught, movi, scifi, channel, recent, actual,...</td>\n",
       "    </tr>\n",
       "  </tbody>\n",
       "</table>\n",
       "<p>50000 rows × 4 columns</p>\n",
       "</div>"
      ],
      "text/plain": [
       "                                                    text  label  length  \\\n",
       "0      I rented I AM CURIOUS-YELLOW from my video sto...      0     288   \n",
       "1      \"I Am Curious: Yellow\" is a risible and preten...      0     214   \n",
       "2      If only to avoid making this type of film in t...      0      93   \n",
       "3      This film was probably inspired by Godard's Ma...      0     118   \n",
       "4      Oh, brother...after hearing about this ridicul...      0     311   \n",
       "...                                                  ...    ...     ...   \n",
       "49995  Just got around to seeing Monster Man yesterda...      1     744   \n",
       "49996  I got this as part of a competition prize. I w...      1     116   \n",
       "49997  I got Monster Man in a box set of three films ...      1     212   \n",
       "49998  Five minutes in, i started to feel how naff th...      1     380   \n",
       "49999  I caught this movie on the Sci-Fi channel rece...      1     128   \n",
       "\n",
       "                                                  tokens  \n",
       "0      [rent, curiousyellow, video, store, controvers...  \n",
       "1      [curiou, yellow, risibl, pretenti, steam, pile...  \n",
       "2      [avoid, make, type, film, futur, film, interes...  \n",
       "3      [film, probabl, inspir, godard, masculin, fémi...  \n",
       "4      [oh, brotheraft, hear, ridicul, film, umpteen,...  \n",
       "...                                                  ...  \n",
       "49995  [got, around, see, monster, man, yesterday, lo...  \n",
       "49996  [got, part, competit, prize, watch, realli, ex...  \n",
       "49997  [got, monster, man, box, set, three, film, mai...  \n",
       "49998  [five, minut, start, feel, naff, look, youv, g...  \n",
       "49999  [caught, movi, scifi, channel, recent, actual,...  \n",
       "\n",
       "[50000 rows x 4 columns]"
      ]
     },
     "execution_count": 19,
     "metadata": {},
     "output_type": "execute_result"
    }
   ],
   "source": [
    "# Apply the preprocessing function to the entire dataset\n",
    "tqdm.pandas() # enable tqdm for pandas\n",
    "df['tokens'] = df['text'].progress_apply(preprocess_text) # apply the preprocessing function to the text column\n",
    "df"
   ]
  },
  {
   "cell_type": "code",
   "execution_count": 21,
   "id": "32995cfd",
   "metadata": {},
   "outputs": [
    {
     "data": {
      "text/plain": [
       "count    50000.00000\n",
       "mean       121.54022\n",
       "std         91.57454\n",
       "min          3.00000\n",
       "25%         65.00000\n",
       "50%         90.00000\n",
       "75%        148.00000\n",
       "max       1440.00000\n",
       "Name: token_count, dtype: float64"
      ]
     },
     "execution_count": 21,
     "metadata": {},
     "output_type": "execute_result"
    }
   ],
   "source": [
    "# Add a new column to the dataframe to store the token counts of each text\n",
    "df['token_count'] = df['tokens'].apply(len)\n",
    "df['token_count'].describe()"
   ]
  },
  {
   "cell_type": "code",
   "execution_count": 22,
   "id": "8a39bac3",
   "metadata": {},
   "outputs": [
    {
     "data": {
      "image/png": "[encoded data removed]",
      "text/plain": [
       "<Figure size 1000x500 with 1 Axes>"
      ]
     },
     "metadata": {},
     "output_type": "display_data"
    }
   ],
   "source": [
    "# Check the distribution of the token counts\n",
    "df['token_count'].plot(kind='hist', bins=100, figsize=(10, 5), title='Distribution of Token Counts',\\\n",
    "                       xlabel='Token Count', ylabel='Frequency', color='blue')\n",
    "plt.tight_layout()\n",
    "plt.show()"
   ]
  },
  {
   "cell_type": "markdown",
   "id": "4d81b336",
   "metadata": {},
   "source": [
    "## Model Building"
   ]
  },
  {
   "cell_type": "markdown",
   "id": "238b71ef",
   "metadata": {},
   "source": [
    "### Shuffle and split the dataset"
   ]
  },
  {
   "cell_type": "code",
   "execution_count": null,
   "id": "e0e934fd",
   "metadata": {},
   "outputs": [],
   "source": [
    "# Shuffle the dataset\n",
    "shuffled_df = df.sample(frac=1, random_state=12).reset_index(drop=True)\n",
    "shuffled_df.head()\n"
   ]
  },
  {
   "cell_type": "code",
   "execution_count": 85,
   "id": "fb6057bf",
   "metadata": {},
   "outputs": [],
   "source": [
    "# Split the dataset into training, validation, and test sets\n",
    "df_train = shuffled_df.iloc[:30000]\n",
    "df_val = shuffled_df.iloc[30000:40000]\n",
    "df_test = shuffled_df.iloc[40000:50000]\n",
    "\n",
    "#df_train.head()\n",
    "#df_val.head()\n",
    "#df_test.head()"
   ]
  },
  {
   "cell_type": "code",
   "execution_count": null,
   "id": "943b6bf9",
   "metadata": {},
   "outputs": [],
   "source": []
  },
  {
   "cell_type": "code",
   "execution_count": null,
   "id": "91f06fb2",
   "metadata": {},
   "outputs": [],
   "source": []
  },
  {
   "cell_type": "markdown",
   "id": "a86bd94d",
   "metadata": {},
   "source": [
    "## Model Evaluation"
   ]
  },
  {
   "cell_type": "markdown",
   "id": "fe446925",
   "metadata": {},
   "source": [
    "### Use the VADER model as a baseline"
   ]
  },
  {
   "cell_type": "code",
   "execution_count": null,
   "id": "c7a80604",
   "metadata": {},
   "outputs": [],
   "source": [
    "# VADER (Valence Aware Dictionary and Sentiment Reasoner), ignoring contexts\n",
    "from nltk.sentiment import SentimentIntensityAnalyzer\n",
    "\n",
    "sia = SentimentIntensityAnalyzer()\n",
    "#sia.polarity_scores(example_text)\n",
    "\n",
    "# Run the polarity score on the test set\n",
    "tqdm.pandas()\n",
    "vaders = df_test.progress_apply(lambda row: sia.polarity_scores(row['text']), axis=1)\n",
    "vaders = pd.DataFrame(vaders)\n",
    "\n",
    "# merge the VADER scores with the test set\n",
    "vaders = vaders.reset_index().rename(columns={'index': 'Id'})\n",
    "df_test = df_test.reset_index().rename(columns={'index': 'Id'})\n",
    "vaders = vaders.merge(df_test, how='right')\n",
    "vaders\n",
    "\n",
    "# plot VADER scores by sentiment label\n",
    "ax = sns.barplot(data=vaders, x='label', y='compound')\n",
    "ax.set_title('Compound Score by Sentiment Label')\n",
    "plt.show()\n",
    "\n",
    "# plot VADER sub-scores by sentiment label\n",
    "fig, axs = plt.subplots(1, 3, figsize=(12, 3))\n",
    "sns.barplot(data=vaders, x='label', y='pos', ax=axs[0])\n",
    "sns.barplot(data=vaders, x='label', y='neu', ax=axs[1])\n",
    "sns.barplot(data=vaders, x='label', y='neg', ax=axs[2])\n",
    "axs[0].set_title('Positive')\n",
    "axs[1].set_title('Neutral')\n",
    "axs[2].set_title('Negative')\n",
    "plt.tight_layout()\n",
    "plt.show()"
   ]
  },
  {
   "cell_type": "markdown",
   "id": "a4e161b9",
   "metadata": {},
   "source": [
    "### Use the Roberta pretrained model for sentiment analysis"
   ]
  },
  {
   "cell_type": "code",
   "execution_count": null,
   "id": "a7500ecc",
   "metadata": {},
   "outputs": [],
   "source": [
    "# get the Roberta model\n",
    "MODEL = f\"cardiffnlp/twitter-roberta-base-sentiment\"\n",
    "tokenizer = AutoTokenizer.from_pretrained(MODEL)\n",
    "model = AutoModelForSequenceClassification.from_pretrained(MODEL)\n",
    "\n",
    "# try to run the model on Mac GPUs\n",
    "# check if MPS (Metal Performance Shaders) is available\n",
    "device = torch.device(\"mps\") if torch.backends.mps.is_available() else torch.device(\"cpu\")\n",
    "print(f\"Using device: {device}\")\n",
    "\n",
    "# Load the tokenizer and model\n",
    "model = model.to(device)\n",
    "\n",
    "# Run the Roberta model with batch input using GPUs\n",
    "def polarity_scores_roberta_gpu_batch(texts: List[str], batch_size: int = 256) -> Dict[int, Dict[str, float]]:\n",
    "    \"\"\"\n",
    "    Analyze sentiment for a batch of texts using the Roberta model.\n",
    "        \n",
    "    Args:\n",
    "        texts (List[str]): List of input texts\n",
    "        batch_size (int): Size of the batch to process\n",
    "            \n",
    "    Returns:\n",
    "        Dict[int, Dict[str, float]]: Dictionary of dictionaries containing sentiment probabilities\n",
    "    \"\"\"\n",
    "\n",
    "    scores_dict = {}\n",
    "    num_batches = math.ceil(len(texts) / batch_size)\n",
    "         \n",
    "    for i in tqdm(range(num_batches)):\n",
    "        # Get the batch of texts\n",
    "        batch_texts = texts[i*batch_size : (i+1)*batch_size]\n",
    "        \n",
    "        # Tokenize with truncation\n",
    "        encoded_text = tokenizer(\n",
    "                 batch_texts, \n",
    "                 return_tensors='pt', \n",
    "                 truncation=True, \n",
    "                 padding=True, \n",
    "                 max_length=512\n",
    "             ).to(device)\n",
    "             \n",
    "        # Run inference\n",
    "        with torch.no_grad():\n",
    "            outputs = model(**encoded_text)\n",
    "            probabilities = torch.nn.functional.softmax(outputs.logits, dim=1)\n",
    "             \n",
    "        # Get predictions\n",
    "        for j, probs in enumerate(probabilities.cpu().numpy()):\n",
    "            idx = i * batch_size + j\n",
    "            scores_dict[idx] = {\n",
    "                     \"roberta_neg\": float(probs[0]),\n",
    "                     \"roberta_neu\": float(probs[1]),\n",
    "                     \"roberta_pos\": float(probs[2])\n",
    "                 }\n",
    "         \n",
    "    return scores_dict\n",
    "\n",
    "roberta_batch_result = polarity_scores_roberta_gpu_batch(list(df_test['text']))\n",
    "roberta_batch_result\n",
    "\n",
    "# compare the VADER and Roberta scores\n",
    "sns.pairplot(data=results_df,\n",
    "             vars=['vader_neg', 'vader_neu', 'vader_pos',\n",
    "                  'roberta_neg', 'roberta_neu', 'roberta_pos'],\n",
    "            hue='label',\n",
    "            palette='tab10')\n",
    "plt.show()\n",
    "\n",
    "# sanity check the VADER and Roberta scores\n",
    "results_df.query('label == 0') \\\n",
    "    .sort_values('roberta_pos', ascending=False)['text'].values[0]\n",
    "\n",
    "results_df.query('label == 0') \\\n",
    "    .sort_values('vader_pos', ascending=False)['text'].values[0]\n",
    "\n",
    "results_df.query('label == 1') \\\n",
    "    .sort_values('roberta_neg', ascending=False)['text'].values[0]\n",
    "\n",
    "results_df.query('label == 1') \\\n",
    "    .sort_values('vader_neg', ascending=False)['text'].values[0]"
   ]
  },
  {
   "cell_type": "markdown",
   "id": "3d5eea2e",
   "metadata": {},
   "source": [
    "### Use the Hugging Face pipeline for sentiment analysis"
   ]
  },
  {
   "cell_type": "code",
   "execution_count": null,
   "id": "e2d4df31",
   "metadata": {},
   "outputs": [],
   "source": [
    "# Use the Transformers Pipeline for sentiment analysis\n",
    "from transformers import pipeline\n",
    "\n",
    "sent_pipeline = pipeline(\"sentiment-analysis\")"
   ]
  },
  {
   "cell_type": "code",
   "execution_count": null,
   "id": "faa6bcae",
   "metadata": {},
   "outputs": [],
   "source": [
    "sent_pipeline(example_text)\n",
    "sent_pipeline('I love sentiment analysis!')\n",
    "sent_pipeline('I hate having no gpus!')\n",
    "sent_pipeline('What a beautiful day! All my clothes got wet!')"
   ]
  },
  {
   "cell_type": "code",
   "execution_count": null,
   "id": "00273973",
   "metadata": {},
   "outputs": [],
   "source": []
  },
  {
   "cell_type": "markdown",
   "id": "30edd616",
   "metadata": {},
   "source": [
    "## Retrieval Augmented Generation (RAG)"
   ]
  },
  {
   "cell_type": "code",
   "execution_count": null,
   "id": "f1f93971",
   "metadata": {},
   "outputs": [],
   "source": []
  },
  {
   "cell_type": "code",
   "execution_count": null,
   "id": "476d6676",
   "metadata": {},
   "outputs": [],
   "source": []
  }
 ],
 "metadata": {
  "kernelspec": {
   "display_name": "llm",
   "language": "python",
   "name": "python3"
  },
  "language_info": {
   "codemirror_mode": {
    "name": "ipython",
    "version": 3
   },
   "file_extension": ".py",
   "mimetype": "text/x-python",
   "name": "python",
   "nbconvert_exporter": "python",
   "pygments_lexer": "ipython3",
   "version": "3.12.7"
  }
 },
 "nbformat": 4,
 "nbformat_minor": 5
}
